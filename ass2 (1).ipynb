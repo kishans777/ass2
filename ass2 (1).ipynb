{
 "cells": [
  {
   "cell_type": "markdown",
   "id": "0fe5efb3-dde2-49b1-9ee2-22e80236e705",
   "metadata": {},
   "source": [
    "Q1. How do you comment code in Python? What are the different types of comments?\n"
   ]
  },
  {
   "cell_type": "code",
   "execution_count": 2,
   "id": "da866afc-5250-45d3-9330-6a682d03389a",
   "metadata": {},
   "outputs": [
    {
     "name": "stdout",
     "output_type": "stream",
     "text": [
      "6\n"
     ]
    }
   ],
   "source": []
  },
  {
   "cell_type": "code",
   "execution_count": 11,
   "id": "dd075a58-8d0f-486b-a839-dae202aa6d18",
   "metadata": {},
   "outputs": [],
   "source": [
    "#KISHAN\n"
   ]
  },
  {
   "cell_type": "code",
   "execution_count": 4,
   "id": "6e26a403-725f-479b-859a-805f49818a5d",
   "metadata": {},
   "outputs": [],
   "source": [
    "SINGEL line comment\n"
   ]
  },
  {
   "cell_type": "code",
   "execution_count": 9,
   "id": "c6c9b26d-7760-475b-984e-87f5ed31df5f",
   "metadata": {},
   "outputs": [
    {
     "data": {
      "text/plain": [
       "'\\nThis is a multi-line comment.\\n'"
      ]
     },
     "execution_count": 9,
     "metadata": {},
     "output_type": "execute_result"
    }
   ],
   "source": [
    "\"\"\"\n",
    "This is a multi-line comment.\n",
    "\"\"\""
   ]
  },
  {
   "cell_type": "markdown",
   "id": "23dfa198-e9b2-4328-a88f-f43fe5d37379",
   "metadata": {},
   "source": [
    "\n",
    "Q2. What are variables in Python? How do you declare and assign values to variables?"
   ]
  },
  {
   "cell_type": "code",
   "execution_count": 12,
   "id": "4a6805da-b8bd-48b2-b784-c95b82663d27",
   "metadata": {},
   "outputs": [
    {
     "ename": "SyntaxError",
     "evalue": "invalid syntax (3147769282.py, line 1)",
     "output_type": "error",
     "traceback": [
      "\u001b[0;36m  Cell \u001b[0;32mIn[12], line 1\u001b[0;36m\u001b[0m\n\u001b[0;31m    A VARIABLE IN PYTHON TO HOLD SOME VALUE FOR EXAMPLE\u001b[0m\n\u001b[0m      ^\u001b[0m\n\u001b[0;31mSyntaxError\u001b[0m\u001b[0;31m:\u001b[0m invalid syntax\n"
     ]
    }
   ],
   "source": [
    "A VARIABLE IN PYTHON TO HOLD SOME VALUE FOR EXAMPLE\n",
    "X=8\n",
    "HERE X is a variable which cotain integer in python we cant decalare data type like int x compile itself know there type.\n",
    "f=45.6\n",
    "s=\"kishan\" or 'kishan' string is also immutable \n",
    "l=[23,65,43,\"kishan\",87.4,True,\"rohit\"] here it is a list which hold a all types of variable.it is a mutable because we change in list.\n",
    "set={23,87,34,56} here set hold some value and also not provide repeated value.\n",
    "dic={\"keys\":\"value\"}.\n",
    "t=(34,54,64,35) it is a immutable ."
   ]
  },
  {
   "cell_type": "markdown",
   "id": "0cd17f05-07fc-4764-a9bf-ca65e1326837",
   "metadata": {},
   "source": [
    "Q3. How do you convert one data type to another in Python?"
   ]
  },
  {
   "cell_type": "markdown",
   "id": "895df79e-2fac-42e5-b96c-039a98c7fe8f",
   "metadata": {},
   "source": [
    "by using type casting we convert one data type into another data type for exampla\n",
    "x=\"kishan\"\n"
   ]
  },
  {
   "cell_type": "code",
   "execution_count": 26,
   "id": "6072748d-97c1-4a46-a5d3-cf16a30f7b74",
   "metadata": {},
   "outputs": [],
   "source": [
    "name=\"kishan\"\n"
   ]
  },
  {
   "cell_type": "code",
   "execution_count": 27,
   "id": "0df49ce9-b1d7-4bad-9066-5f09c16644b2",
   "metadata": {},
   "outputs": [
    {
     "data": {
      "text/plain": [
       "str"
      ]
     },
     "execution_count": 27,
     "metadata": {},
     "output_type": "execute_result"
    }
   ],
   "source": [
    "type(name)"
   ]
  },
  {
   "cell_type": "code",
   "execution_count": 28,
   "id": "79ffdb0a-14cb-44d2-a0b1-ba763e71e2a5",
   "metadata": {},
   "outputs": [],
   "source": [
    "int= str(name)"
   ]
  },
  {
   "cell_type": "code",
   "execution_count": 31,
   "id": "13e69055-22f9-46b9-94fa-493b8357af98",
   "metadata": {},
   "outputs": [
    {
     "data": {
      "text/plain": [
       "str"
      ]
     },
     "execution_count": 31,
     "metadata": {},
     "output_type": "execute_result"
    }
   ],
   "source": [
    "type(name)"
   ]
  },
  {
   "cell_type": "markdown",
   "id": "e92fc5f2-8482-413c-8543-848d7c8a69f8",
   "metadata": {},
   "source": [
    "Q4. How do you write and execute a Python script from the command line?"
   ]
  },
  {
   "cell_type": "code",
   "execution_count": 37,
   "id": "45742a32-0edb-4890-8364-2409b683af4c",
   "metadata": {},
   "outputs": [
    {
     "data": {
      "text/plain": [
       "' 1.open text editor to create a file.use any editor like vs code,jupitar,notpad etc\\n\\n2.write python code for exampli print(\"kishan\")\\n\\n3.save the file .py \\n\\n4.Open the command line or terminal on your operating system.\\n\\n5.Once you are in the correct directory, you can execute the Python script\\npython kishan.py\\n\\n6.then run this code.'"
      ]
     },
     "execution_count": 37,
     "metadata": {},
     "output_type": "execute_result"
    }
   ],
   "source": [
    "''' 1.open text editor to create a file.use any editor like vs code,jupitar,notpad etc\n",
    "\n",
    "2.write python code for exampli print(\"kishan\")\n",
    "\n",
    "3.save the file .py \n",
    "\n",
    "4.Open the command line or terminal on your operating system.\n",
    "\n",
    "5.Once you are in the correct directory, you can execute the Python script\n",
    "python kishan.py\n",
    "\n",
    "6.then run this code.'''"
   ]
  },
  {
   "cell_type": "markdown",
   "id": "6122f609-67ee-4d7c-b62e-f6f1da07f0ad",
   "metadata": {},
   "source": [
    "Q5. Given a list my_list = [1, 2, 3, 4, 5], write the code to slice the list and obtain the sub-list [2, 3]."
   ]
  },
  {
   "cell_type": "code",
   "execution_count": 39,
   "id": "07862397-07ca-44d5-ba2d-7517aba96a05",
   "metadata": {},
   "outputs": [],
   "source": [
    "list=[1,2,3,4,5]"
   ]
  },
  {
   "cell_type": "code",
   "execution_count": 40,
   "id": "2239d222-7ce8-4591-9ef2-2c39abd0ba14",
   "metadata": {},
   "outputs": [
    {
     "data": {
      "text/plain": [
       "2"
      ]
     },
     "execution_count": 40,
     "metadata": {},
     "output_type": "execute_result"
    }
   ],
   "source": [
    "list[1]"
   ]
  },
  {
   "cell_type": "code",
   "execution_count": 44,
   "id": "7d898a2c-4470-4d24-b6d3-1f0069da49cc",
   "metadata": {},
   "outputs": [
    {
     "data": {
      "text/plain": [
       "3"
      ]
     },
     "execution_count": 44,
     "metadata": {},
     "output_type": "execute_result"
    }
   ],
   "source": [
    "list[2]"
   ]
  },
  {
   "cell_type": "code",
   "execution_count": 46,
   "id": "8abb7e03-99e1-485f-a0cc-c93bd888007c",
   "metadata": {},
   "outputs": [],
   "source": [
    "list.remove(1)"
   ]
  },
  {
   "cell_type": "code",
   "execution_count": 49,
   "id": "828ecaa4-efe1-4eff-a569-1d03f6007a8d",
   "metadata": {},
   "outputs": [
    {
     "data": {
      "text/plain": [
       "[2, 3, 4, 5]"
      ]
     },
     "execution_count": 49,
     "metadata": {},
     "output_type": "execute_result"
    }
   ],
   "source": [
    "list"
   ]
  },
  {
   "cell_type": "code",
   "execution_count": 50,
   "id": "d3cf90fa-5a9e-43cf-9bea-74b340363f98",
   "metadata": {},
   "outputs": [],
   "source": [
    "list.remove(4)"
   ]
  },
  {
   "cell_type": "code",
   "execution_count": 51,
   "id": "e0b178c5-440c-409d-9dad-02b49f367454",
   "metadata": {},
   "outputs": [],
   "source": [
    "list.remove(5)"
   ]
  },
  {
   "cell_type": "code",
   "execution_count": 52,
   "id": "8690e60f-3487-4f64-9bfb-e907fb3df37c",
   "metadata": {},
   "outputs": [
    {
     "data": {
      "text/plain": [
       "[2, 3]"
      ]
     },
     "execution_count": 52,
     "metadata": {},
     "output_type": "execute_result"
    }
   ],
   "source": [
    "list"
   ]
  },
  {
   "cell_type": "markdown",
   "id": "76532d24-bcd3-457c-8ab4-34916e0bdc11",
   "metadata": {},
   "source": [
    "Q6. What is a complex number in mathematics, and how is it represented in Python?"
   ]
  },
  {
   "cell_type": "code",
   "execution_count": 59,
   "id": "c25a6bb9-a4ad-42af-81e6-911f57c48c05",
   "metadata": {},
   "outputs": [
    {
     "data": {
      "text/plain": [
       "9.0"
      ]
     },
     "execution_count": 59,
     "metadata": {},
     "output_type": "execute_result"
    }
   ],
   "source": [
    "'''IN mathamatics complex number in the form of a+ib . but in python complex number in the form of a+ij. where a and b are number.\n",
    "for example in python.'''\n",
    "y=5+9j\n",
    "y.real\n",
    "y.imag"
   ]
  },
  {
   "cell_type": "code",
   "execution_count": 60,
   "id": "94252a62-cc2e-4968-9912-791e29beb982",
   "metadata": {},
   "outputs": [
    {
     "data": {
      "text/plain": [
       "5.0"
      ]
     },
     "execution_count": 60,
     "metadata": {},
     "output_type": "execute_result"
    }
   ],
   "source": [
    "y.real"
   ]
  },
  {
   "cell_type": "markdown",
   "id": "ad7f5765-48d0-402a-b9c9-cdb45cd63508",
   "metadata": {},
   "source": [
    "Q7. What is the correct way to declare a variable named age and assign the value 25 to it?"
   ]
  },
  {
   "cell_type": "code",
   "execution_count": 61,
   "id": "e5826ead-a841-4e60-9ce4-e7813e76cfc9",
   "metadata": {},
   "outputs": [
    {
     "name": "stdout",
     "output_type": "stream",
     "text": [
      "25\n"
     ]
    }
   ],
   "source": [
    "age =25\n",
    "print(age)"
   ]
  },
  {
   "cell_type": "markdown",
   "id": "9a7313fb-5464-49dc-b521-e31a65d9f989",
   "metadata": {},
   "source": [
    "Q8. Declare a variable named price and assign the value 9.99 to it. What data type does this variable \n",
    "belong to?"
   ]
  },
  {
   "cell_type": "code",
   "execution_count": 62,
   "id": "1ebb6a91-4635-4545-8a86-40dc3c0ca176",
   "metadata": {},
   "outputs": [
    {
     "data": {
      "text/plain": [
       "float"
      ]
     },
     "execution_count": 62,
     "metadata": {},
     "output_type": "execute_result"
    }
   ],
   "source": [
    "price=9.99\n",
    "type(price)"
   ]
  },
  {
   "cell_type": "markdown",
   "id": "606bb47c-4e86-4186-ae20-2c32be708bff",
   "metadata": {},
   "source": [
    "Q9. Create a variable named name and assign your full name to it as a string. How would you print the \n",
    "value of this variable?"
   ]
  },
  {
   "cell_type": "code",
   "execution_count": 63,
   "id": "9761578b-81b4-4dd1-89e4-2a31eda92536",
   "metadata": {},
   "outputs": [
    {
     "name": "stdout",
     "output_type": "stream",
     "text": [
      "kishan kuamr\n"
     ]
    }
   ],
   "source": [
    "name=\"kishan kuamr\"\n",
    "print(name)"
   ]
  },
  {
   "cell_type": "markdown",
   "id": "47c18278-d964-422d-a01d-be6cec615954",
   "metadata": {},
   "source": [
    "Q10. Given the string \"Hello, World!\", extract the substring \"World\"."
   ]
  },
  {
   "cell_type": "code",
   "execution_count": 71,
   "id": "443d4913-826f-4087-8542-1fa7c363fee2",
   "metadata": {},
   "outputs": [],
   "source": [
    "string=\"hello,world!\"\n",
    "substring = string[6:11:1]"
   ]
  },
  {
   "cell_type": "code",
   "execution_count": 72,
   "id": "8bab6292-4b82-4ae0-a09b-77ea3ee071ec",
   "metadata": {},
   "outputs": [
    {
     "name": "stdout",
     "output_type": "stream",
     "text": [
      "world\n"
     ]
    }
   ],
   "source": [
    "print(substring)"
   ]
  },
  {
   "cell_type": "markdown",
   "id": "92e7334d-c53a-4cdb-9466-7f6a31db8873",
   "metadata": {},
   "source": [
    "Q11. Create a variable named \"is_student\" and assign it a boolean value indicating whether you are \n",
    "currently a student or not.\n"
   ]
  },
  {
   "cell_type": "code",
   "execution_count": null,
   "id": "e0bb3c7c-ed35-48a3-8b4a-059f9fdb38c4",
   "metadata": {},
   "outputs": [],
   "source": [
    "is_student=True\n",
    "it assigend is a student\n",
    "\n",
    "is_student=False\n",
    "it assigend is not a student\n"
   ]
  }
 ],
 "metadata": {
  "kernelspec": {
   "display_name": "Python 3 (ipykernel)",
   "language": "python",
   "name": "python3"
  },
  "language_info": {
   "codemirror_mode": {
    "name": "ipython",
    "version": 3
   },
   "file_extension": ".py",
   "mimetype": "text/x-python",
   "name": "python",
   "nbconvert_exporter": "python",
   "pygments_lexer": "ipython3",
   "version": "3.10.8"
  }
 },
 "nbformat": 4,
 "nbformat_minor": 5
}
